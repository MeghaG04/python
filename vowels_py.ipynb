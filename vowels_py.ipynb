{
  "nbformat": 4,
  "nbformat_minor": 0,
  "metadata": {
    "colab": {
      "provenance": [],
      "authorship_tag": "ABX9TyPITnEi9Bru/xX3At5C2Yo+",
      "include_colab_link": true
    },
    "kernelspec": {
      "name": "python3",
      "display_name": "Python 3"
    },
    "language_info": {
      "name": "python"
    }
  },
  "cells": [
    {
      "cell_type": "markdown",
      "metadata": {
        "id": "view-in-github",
        "colab_type": "text"
      },
      "source": [
        "<a href=\"https://colab.research.google.com/github/MeghaG04/python/blob/main/vowels_py.ipynb\" target=\"_parent\"><img src=\"https://colab.research.google.com/assets/colab-badge.svg\" alt=\"Open In Colab\"/></a>"
      ]
    },
    {
      "cell_type": "code",
      "execution_count": null,
      "metadata": {
        "colab": {
          "base_uri": "https://localhost:8080/"
        },
        "id": "0utH2EV6ipJn",
        "outputId": "48a94c2c-8d2b-4f14-c2b7-c3b16a037c43"
      },
      "outputs": [
        {
          "output_type": "stream",
          "name": "stdout",
          "text": [
            "Enter the word \n",
            "apple\n",
            " The vowels in the given word are\n",
            "\n",
            "['a', 'e']\n"
          ]
        }
      ],
      "source": [
        "x = input(\"Enter the word \\n\")\n",
        "y = ['a','e','i','o','u']\n",
        "vowels =[]\n",
        "for i in x:\n",
        "    for j in y:\n",
        "        if i == j:\n",
        "            vowels.append(i)\n",
        "print(\" The vowels in the given word are\\n\")\n",
        "print(vowels)"
      ]
    }
  ]
}